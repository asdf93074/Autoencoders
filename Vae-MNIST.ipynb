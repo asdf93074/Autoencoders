{
 "cells": [
  {
   "cell_type": "code",
   "execution_count": 1,
   "metadata": {},
   "outputs": [
    {
     "data": {
      "text/plain": [
       "<torch._C.Generator at 0x7245c029e210>"
      ]
     },
     "execution_count": 1,
     "metadata": {},
     "output_type": "execute_result"
    }
   ],
   "source": [
    "import numpy as np\n",
    "import torch\n",
    "import torchvision\n",
    "from torch import nn\n",
    "from torchvision.transforms import v2\n",
    "from torch.utils.data import DataLoader, random_split\n",
    "import matplotlib.pyplot as plt\n",
    "\n",
    "np.random.seed(42)\n",
    "torch.manual_seed(42)"
   ]
  },
  {
   "cell_type": "code",
   "execution_count": 3,
   "metadata": {},
   "outputs": [],
   "source": [
    "device = torch.device('cuda' if torch.cuda.is_available() else 'cpu')\n",
    "\n",
    "transforms = v2.Compose([\n",
    "    v2.ToTensor(),\n",
    "])\n",
    "\n",
    "train_complete_set = torchvision.datasets.MNIST('./datasets', train=True, transform=transforms, download=True)\n",
    "train_set, val_set = random_split(train_complete_set, [0.95, 0.05], torch.Generator().manual_seed(42))\n",
    "\n",
    "test_set = torchvision.datasets.MNIST('./datasets', train=False, transform=transforms, download=True)"
   ]
  },
  {
   "cell_type": "code",
   "execution_count": 4,
   "metadata": {},
   "outputs": [],
   "source": [
    "batch_size = 256\n",
    "\n",
    "train_loader = DataLoader(train_set, batch_size=batch_size, shuffle=True, num_workers=2)\n",
    "val_loader = DataLoader(val_set, batch_size=batch_size, shuffle=True, num_workers=2)\n",
    "test_loader = DataLoader(test_set, batch_size=batch_size, shuffle=True, num_workers=2)"
   ]
  },
  {
   "cell_type": "code",
   "execution_count": 54,
   "metadata": {},
   "outputs": [],
   "source": [
    "class Solver:\n",
    "    def __init__(self, model, lr=3e-3, reg=0.0, optim=torch.optim.Adam, batch_size=batch_size, criterion=nn.CrossEntropyLoss, print_every=100, anneal=False):\n",
    "        self.lr = lr\n",
    "        self.reg = reg\n",
    "        self.model = model\n",
    "        self.batch_size = batch_size\n",
    "        self.optim = optim(model.parameters(), lr=lr, weight_decay=reg)\n",
    "        self.criterion = criterion()\n",
    "        self.dataloaders = {}\n",
    "        self.loss_history = []\n",
    "        self.print_every = print_every\n",
    "        self.kl_loss_weight = 0.0001\n",
    "\n",
    "        self.anneal = anneal\n",
    "        self.anneal_counter = 0\n",
    "        self.last_anneal_idx = 0\n",
    "        self.max_anneal_count = 3\n",
    "\n",
    "    def set_data_loader(self, loader, split):\n",
    "        self.dataloaders[split] = loader\n",
    "\n",
    "    def estimate_loss(self, split):\n",
    "        dataloader = self.dataloaders[split]\n",
    "\n",
    "        if dataloader == None:\n",
    "            return -1.0\n",
    "\n",
    "        self.model.eval()\n",
    "        avg_loss = 0.0\n",
    "        avg_kl_loss = 0.0\n",
    "        with torch.no_grad():\n",
    "            for i, data in enumerate(dataloader):\n",
    "                if i % 5000 == 0 and i > 0:\n",
    "                    break\n",
    "                images, _ = data\n",
    "                N = images.shape[0]\n",
    "                images = images.to(device).reshape(N, -1)\n",
    "\n",
    "                out, mean, log_var  = self.model(images)\n",
    "                avg_kl_loss += self.kl_loss_weight * -0.5 * (1 + log_var - mean.square() - log_var.exp()).sum()\n",
    "\n",
    "                loss = self.criterion(out, images)\n",
    "                avg_loss += loss.item()\n",
    "\n",
    "        self.model.train()\n",
    "        print(f\"AVG RECON LOSS: {avg_loss / len(dataloader)} AVG KL LOSS: {avg_kl_loss / len(dataloader)} \")\n",
    "        return (avg_loss / len(dataloader)) # + (avg_kl_loss / len(dataloader))\n",
    "    \n",
    "    def anneal_learning_rate(self):\n",
    "        num_losses = len(self.loss_history)\n",
    "        if (self.anneal_counter == self.max_anneal_count\n",
    "            or num_losses < 3\n",
    "            or num_losses - self.last_anneal_idx < 3):\n",
    "            return\n",
    "\n",
    "        train = [l[0] for l in self.loss_history]\n",
    "        arr = np.array(train[-3:])\n",
    "        if arr.std() >= 1e-4:\n",
    "            return\n",
    "\n",
    "        self.last_anneal_idx = num_losses\n",
    "        self.anneal_counter += 1\n",
    "        print(f\"Annealing learning_rate {self.lr} by 10. New learning rate {self.lr / 10}. Anneal count {self.anneal_counter} / {self.max_anneal_count}.\")\n",
    "        self.lr /= 10\n",
    "\n",
    "    def train(self, loader, epochs=1):\n",
    "        for e in range(epochs):\n",
    "            for i, data in enumerate(loader):\n",
    "\n",
    "                if i % self.print_every == 0 and i > 0:\n",
    "                    train_loss = self.estimate_loss('train')\n",
    "                    val_loss = self.estimate_loss('val')\n",
    "                    \n",
    "                    print(f\"epoch: {e} iter: {i} train_loss: {train_loss} val_loss: {val_loss}\")\n",
    "\n",
    "                    self.loss_history.append((train_loss, val_loss))\n",
    "                    if self.anneal:\n",
    "                        self.anneal_learning_rate()\n",
    "\n",
    "                images, _ = data\n",
    "                N = images.shape[0]\n",
    "                images = images.to(device).reshape(N, -1)\n",
    "\n",
    "                self.optim.zero_grad()\n",
    "\n",
    "                out, mean, log_var  = self.model(images)\n",
    "                kl_loss = -0.5 * (1 + log_var - mean.square() - log_var.exp()).mean()\n",
    "                # print(enc, eps)\n",
    "                # print(logits, mean, var)\n",
    "                # break\n",
    "                # print(out.shape, images.shape, kl_loss.shape)\n",
    "                loss = self.criterion(out, images)\n",
    "                \n",
    "                # if i % 1 == 0:\n",
    "                #     loss += self.kl_loss_weight * kl_loss\n",
    "\n",
    "                loss.backward()\n",
    "                self.optim.step()\n"
   ]
  },
  {
   "cell_type": "code",
   "execution_count": 85,
   "metadata": {},
   "outputs": [],
   "source": [
    "class Net(nn.Module):\n",
    "    def __init__(self, in_channels, out_channels):\n",
    "        super().__init__()\n",
    "\n",
    "        self.in_channels = in_channels\n",
    "        self.out_channels = out_channels\n",
    "\n",
    "        self.leaky_relu = nn.LeakyReLU(0.2)\n",
    "\n",
    "        self.encoder = nn.Sequential(\n",
    "            nn.Linear(in_channels, 512, device=device),\n",
    "            self.leaky_relu,\n",
    "            nn.Linear(512, 256, device=device),\n",
    "            self.leaky_relu,\n",
    "            nn.Linear(256, out_channels, device=device),\n",
    "            self.leaky_relu,\n",
    "        )\n",
    "\n",
    "        self.decoder = nn.Sequential(\n",
    "            nn.Linear(out_channels, 256, device=device),\n",
    "            self.leaky_relu,\n",
    "            nn.Linear(256, 512, device=device),\n",
    "            self.leaky_relu,\n",
    "            nn.Linear(512, in_channels, device=device),\n",
    "            nn.Sigmoid(),\n",
    "        )\n",
    "        self.ln_mean = nn.Linear(out_channels, out_channels, device=device)\n",
    "        self.ln_var  = nn.Linear(out_channels, out_channels, device=device)\n",
    "\n",
    "    def forward(self, input):\n",
    "        mean, log_var = self.encode(input)\n",
    "        q = self.reparameterize(mean, log_var)\n",
    "        x = self.decode(q)\n",
    "        return [x, mean, log_var]\n",
    "    \n",
    "    def reparameterize(self, mean, log_var):\n",
    "        std = torch.exp(0.5 * log_var)\n",
    "        eps  = torch.randn_like(std, requires_grad=False)\n",
    "\n",
    "        return mean + (std * eps)\n",
    "\n",
    "    def encode(self, x):\n",
    "        encoded = self.encoder(x)\n",
    "        mean = self.ln_mean(encoded)\n",
    "        log_var  = self.ln_var(encoded)\n",
    "        \n",
    "        return [mean, log_var]\n",
    "\n",
    "    def decode(self, embd):\n",
    "        return self.decoder(embd)"
   ]
  },
  {
   "cell_type": "code",
   "execution_count": 86,
   "metadata": {},
   "outputs": [],
   "source": [
    "model = Net(784, 100)\n",
    "solver = Solver(model, lr=0.001, batch_size=batch_size, criterion=nn.BCELoss)\n",
    "solver.set_data_loader(train_loader, 'train')\n",
    "solver.set_data_loader(val_loader, 'val')"
   ]
  },
  {
   "cell_type": "code",
   "execution_count": 87,
   "metadata": {},
   "outputs": [
    {
     "name": "stdout",
     "output_type": "stream",
     "text": [
      "AVG RECON LOSS: 0.23504105531046743 AVG KL LOSS: 2.0220999717712402 \n",
      "AVG RECON LOSS: 0.23362804080049196 AVG KL LOSS: 2.0210063457489014 \n",
      "epoch: 0 iter: 100 train_loss: 0.23504105531046743 val_loss: 0.23362804080049196\n",
      "AVG RECON LOSS: 0.17753976924269724 AVG KL LOSS: 7.6715168952941895 \n",
      "AVG RECON LOSS: 0.17659000679850578 AVG KL LOSS: 7.587379455566406 \n",
      "epoch: 0 iter: 200 train_loss: 0.17753976924269724 val_loss: 0.17659000679850578\n",
      "AVG RECON LOSS: 0.14627189479868508 AVG KL LOSS: 13.617664337158203 \n",
      "AVG RECON LOSS: 0.14571518450975418 AVG KL LOSS: 13.396876335144043 \n",
      "epoch: 1 iter: 100 train_loss: 0.14627189479868508 val_loss: 0.14571518450975418\n",
      "AVG RECON LOSS: 0.13832989695895412 AVG KL LOSS: 19.252424240112305 \n",
      "AVG RECON LOSS: 0.13786005352934202 AVG KL LOSS: 18.96515655517578 \n",
      "epoch: 1 iter: 200 train_loss: 0.13832989695895412 val_loss: 0.13786005352934202\n",
      "AVG RECON LOSS: 0.12236480428231672 AVG KL LOSS: 22.50490951538086 \n",
      "AVG RECON LOSS: 0.12257658193508784 AVG KL LOSS: 22.1649169921875 \n",
      "epoch: 2 iter: 100 train_loss: 0.12236480428231672 val_loss: 0.12257658193508784\n",
      "AVG RECON LOSS: 0.11330228432545213 AVG KL LOSS: 24.716726303100586 \n",
      "AVG RECON LOSS: 0.11339729279279709 AVG KL LOSS: 24.29167938232422 \n",
      "epoch: 2 iter: 200 train_loss: 0.11330228432545213 val_loss: 0.11339729279279709\n",
      "AVG RECON LOSS: 0.1059944762977784 AVG KL LOSS: 27.102785110473633 \n",
      "AVG RECON LOSS: 0.10629384467999141 AVG KL LOSS: 26.632535934448242 \n",
      "epoch: 3 iter: 100 train_loss: 0.1059944762977784 val_loss: 0.10629384467999141\n",
      "AVG RECON LOSS: 0.1019031943694893 AVG KL LOSS: 28.174835205078125 \n",
      "AVG RECON LOSS: 0.10220290037492911 AVG KL LOSS: 27.689212799072266 \n",
      "epoch: 3 iter: 200 train_loss: 0.1019031943694893 val_loss: 0.10220290037492911\n",
      "AVG RECON LOSS: 0.09851057991184996 AVG KL LOSS: 29.219188690185547 \n",
      "AVG RECON LOSS: 0.09877103132506211 AVG KL LOSS: 28.698650360107422 \n",
      "epoch: 4 iter: 100 train_loss: 0.09851057991184996 val_loss: 0.09877103132506211\n",
      "AVG RECON LOSS: 0.09583179452226835 AVG KL LOSS: 29.950950622558594 \n",
      "AVG RECON LOSS: 0.09619769019385178 AVG KL LOSS: 29.413131713867188 \n",
      "epoch: 4 iter: 200 train_loss: 0.09583179452226835 val_loss: 0.09619769019385178\n"
     ]
    }
   ],
   "source": [
    "solver.train(train_loader, 5)"
   ]
  },
  {
   "cell_type": "code",
   "execution_count": 111,
   "metadata": {},
   "outputs": [
    {
     "data": {
      "text/plain": [
       "<matplotlib.image.AxesImage at 0x724595020a10>"
      ]
     },
     "execution_count": 111,
     "metadata": {},
     "output_type": "execute_result"
    },
    {
     "data": {
      "image/png": "[encoded data removed]",
      "text/plain": [
       "<Figure size 640x480 with 1 Axes>"
      ]
     },
     "metadata": {},
     "output_type": "display_data"
    }
   ],
   "source": [
    "img = train_set[83][0]\n",
    "plt.imshow(img.reshape(28, 28))"
   ]
  },
  {
   "cell_type": "code",
   "execution_count": 110,
   "metadata": {},
   "outputs": [
    {
     "data": {
      "text/plain": [
       "<matplotlib.image.AxesImage at 0x7245951bf590>"
      ]
     },
     "execution_count": 110,
     "metadata": {},
     "output_type": "execute_result"
    },
    {
     "data": {
      "image/png": "[encoded data removed]",
      "text/plain": [
       "<Figure size 640x480 with 1 Axes>"
      ]
     },
     "metadata": {},
     "output_type": "display_data"
    }
   ],
   "source": [
    "img = img.to(device).reshape(1, 784)\n",
    "x, mean, log_var = model(img)\n",
    "plt.imshow(x.reshape(28, 28).cpu().detach().numpy())"
   ]
  },
  {
   "cell_type": "code",
   "execution_count": 109,
   "metadata": {},
   "outputs": [
    {
     "data": {
      "text/plain": [
       "<matplotlib.image.AxesImage at 0x7245951bd6d0>"
      ]
     },
     "execution_count": 109,
     "metadata": {},
     "output_type": "execute_result"
    },
    {
     "data": {
      "image/png": "[encoded data removed]",
      "text/plain": [
       "<Figure size 640x480 with 1 Axes>"
      ]
     },
     "metadata": {},
     "output_type": "display_data"
    }
   ],
   "source": [
    "rand_img = torch.randn_like(img).to(device).reshape(1, 784)\n",
    "x, mean, log_var = model(rand_img)\n",
    "plt.imshow(x.reshape(28, 28).cpu().detach().numpy())"
   ]
  },
  {
   "cell_type": "code",
   "execution_count": null,
   "metadata": {},
   "outputs": [],
   "source": []
  }
 ],
 "metadata": {
  "kernelspec": {
   "display_name": "Python 3",
   "language": "python",
   "name": "python3"
  },
  "language_info": {
   "codemirror_mode": {
    "name": "ipython",
    "version": 3
   },
   "file_extension": ".py",
   "mimetype": "text/x-python",
   "name": "python",
   "nbconvert_exporter": "python",
   "pygments_lexer": "ipython3",
   "version": "3.12.3"
  }
 },
 "nbformat": 4,
 "nbformat_minor": 2
}
