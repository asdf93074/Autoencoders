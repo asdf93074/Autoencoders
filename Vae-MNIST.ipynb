{
 "cells": [
  {
   "cell_type": "code",
   "execution_count": 2,
   "metadata": {},
   "outputs": [
    {
     "data": {
      "text/plain": [
       "<torch._C.Generator at 0x7e50759ff090>"
      ]
     },
     "execution_count": 2,
     "metadata": {},
     "output_type": "execute_result"
    }
   ],
   "source": [
    "import numpy as np\n",
    "import torch\n",
    "import torchvision\n",
    "from torch import nn\n",
    "from torchvision.transforms import v2\n",
    "from torch.utils.data import DataLoader, random_split\n",
    "import matplotlib.pyplot as plt\n",
    "\n",
    "np.random.seed(42)\n",
    "torch.manual_seed(42)"
   ]
  },
  {
   "cell_type": "code",
   "execution_count": 3,
   "metadata": {},
   "outputs": [
    {
     "name": "stderr",
     "output_type": "stream",
     "text": [
      "/home/mk/.local/lib/python3.12/site-packages/torchvision/transforms/v2/_deprecated.py:42: UserWarning: The transform `ToTensor()` is deprecated and will be removed in a future release. Instead, please use `v2.Compose([v2.ToImage(), v2.ToDtype(torch.float32, scale=True)])`.Output is equivalent up to float precision.\n",
      "  warnings.warn(\n"
     ]
    }
   ],
   "source": [
    "device = torch.device('cuda' if torch.cuda.is_available() else 'cpu')\n",
    "\n",
    "transforms = v2.Compose([\n",
    "    v2.ToTensor(),\n",
    "])\n",
    "\n",
    "train_complete_set = torchvision.datasets.MNIST('./datasets', train=True, transform=transforms, download=True)\n",
    "train_set, val_set = random_split(train_complete_set, [0.95, 0.05], torch.Generator().manual_seed(42))\n",
    "\n",
    "test_set = torchvision.datasets.MNIST('./datasets', train=False, transform=transforms, download=True)"
   ]
  },
  {
   "cell_type": "code",
   "execution_count": 4,
   "metadata": {},
   "outputs": [],
   "source": [
    "batch_size = 256\n",
    "\n",
    "train_loader = DataLoader(train_set, batch_size=batch_size, shuffle=True, num_workers=2)\n",
    "val_loader = DataLoader(val_set, batch_size=batch_size, shuffle=True, num_workers=2)\n",
    "test_loader = DataLoader(test_set, batch_size=batch_size, shuffle=True, num_workers=2)"
   ]
  },
  {
   "cell_type": "code",
   "execution_count": null,
   "metadata": {},
   "outputs": [],
   "source": [
    "class Solver:\n",
    "    def __init__(self, model, lr=3e-3, reg=0.0, optim=torch.optim.Adam, batch_size=batch_size, criterion=nn.CrossEntropyLoss, print_every=100, anneal=False):\n",
    "        self.lr = lr\n",
    "        self.reg = reg\n",
    "        self.model = model\n",
    "        self.batch_size = batch_size\n",
    "        self.optim = optim(model.parameters(), lr=lr, weight_decay=reg)\n",
    "        self.criterion = criterion()\n",
    "        self.dataloaders = {}\n",
    "        self.loss_history = []\n",
    "        self.print_every = print_every\n",
    "\n",
    "        self.anneal = anneal\n",
    "        self.anneal_counter = 0\n",
    "        self.last_anneal_idx = 0\n",
    "        self.max_anneal_count = 3\n",
    "\n",
    "    def set_data_loader(self, loader, split):\n",
    "        self.dataloaders[split] = loader\n",
    "\n",
    "    def estimate_loss(self, split):\n",
    "        dataloader = self.dataloaders[split]\n",
    "\n",
    "        if dataloader == None:\n",
    "            return -1.0\n",
    "\n",
    "        self.model.eval()\n",
    "        avg_loss = 0.0\n",
    "        with torch.no_grad():\n",
    "            for i, data in enumerate(dataloader):\n",
    "                if i % 5000 == 0 and i > 0:\n",
    "                    break\n",
    "                images, _ = data\n",
    "                N = images.shape[0]\n",
    "                images = images.to(device).reshape(N, -1)\n",
    "\n",
    "                out, mean, log_var  = self.model(images)\n",
    "                kl_loss = -0.5 * (1 + log_var - mean.square() - log_var.exp()).sum()\n",
    "\n",
    "                loss = self.criterion(out, images) + kl_loss\n",
    "                avg_loss += loss.item()\n",
    "\n",
    "        self.model.train()\n",
    "        return avg_loss / len(dataloader)\n",
    "    \n",
    "    def anneal_learning_rate(self):\n",
    "        num_losses = len(self.loss_history)\n",
    "        if (self.anneal_counter == self.max_anneal_count\n",
    "            or num_losses < 3\n",
    "            or num_losses - self.last_anneal_idx < 3):\n",
    "            return\n",
    "\n",
    "        train = [l[0] for l in self.loss_history]\n",
    "        arr = np.array(train[-3:])\n",
    "        if arr.std() >= 1e-4:\n",
    "            return\n",
    "\n",
    "        self.last_anneal_idx = num_losses\n",
    "        self.anneal_counter += 1\n",
    "        print(f\"Annealing learning_rate {self.lr} by 10. New learning rate {self.lr / 10}. Anneal count {self.anneal_counter} / {self.max_anneal_count}.\")\n",
    "        self.lr /= 10\n",
    "\n",
    "    def train(self, loader, epochs=1):\n",
    "        for e in range(epochs):\n",
    "            for i, data in enumerate(loader):\n",
    "                if i % self.print_every == 0 and i > 0:\n",
    "                    train_loss = self.estimate_loss('train')\n",
    "                    val_loss = self.estimate_loss('val')\n",
    "                    \n",
    "                    print(f\"epoch: {e} iter: {i} train_loss: {train_loss} val_loss: {val_loss}\")\n",
    "\n",
    "                    self.loss_history.append((train_loss, val_loss))\n",
    "                    if self.anneal:\n",
    "                        self.anneal_learning_rate()\n",
    "\n",
    "                images, _ = data\n",
    "                N = images.shape[0]\n",
    "                images = images.to(device).reshape(N, -1)\n",
    "\n",
    "                self.optim.zero_grad()\n",
    "\n",
    "                out, mean, log_var  = self.model(images)\n",
    "                kl_loss = -0.5 * (1 + log_var - mean.square() - log_var.exp()).sum()\n",
    "                # print(enc, eps)\n",
    "                # print(logits, mean, var)\n",
    "                # break\n",
    "                # print(out.shape, images.shape, kl_loss.shape)\n",
    "                loss = self.criterion(out, images) + kl_loss\n",
    "                loss.backward()\n",
    "                self.optim.step()\n"
   ]
  },
  {
   "cell_type": "code",
   "execution_count": 66,
   "metadata": {},
   "outputs": [],
   "source": [
    "class Net(nn.Module):\n",
    "    def __init__(self, in_channels, out_channels):\n",
    "        super().__init__()\n",
    "\n",
    "        self.in_channels = in_channels\n",
    "        self.out_channels = out_channels\n",
    "\n",
    "        self.leaky_relu = nn.LeakyReLU(0.2)\n",
    "\n",
    "        self.encoder = nn.Sequential(\n",
    "            nn.Linear(in_channels, 512, device=device),\n",
    "            self.leaky_relu,\n",
    "            nn.Linear(512, 256, device=device),\n",
    "            self.leaky_relu,\n",
    "            nn.Linear(256, out_channels, device=device),\n",
    "            self.leaky_relu,\n",
    "        )\n",
    "\n",
    "        self.decoder = nn.Sequential(\n",
    "            nn.Linear(out_channels, 256, device=device),\n",
    "            self.leaky_relu,\n",
    "            nn.Linear(256, 512, device=device),\n",
    "            self.leaky_relu,\n",
    "            nn.Linear(512, in_channels, device=device),\n",
    "            nn.Sigmoid(),\n",
    "        )\n",
    "        self.ln_mean = nn.Sequential(nn.Linear(out_channels, out_channels, device=device), nn.Sigmoid())\n",
    "        self.ln_var  = nn.Sequential(nn.Linear(out_channels, out_channels, device=device), nn.Sigmoid())\n",
    "\n",
    "\n",
    "    def forward(self, input):\n",
    "        mean, log_var = self.encode(input)\n",
    "        q = self.reparameterize(mean, log_var)\n",
    "        x = self.decode(q)\n",
    "        return [x, mean, log_var]\n",
    "    \n",
    "    def reparameterize(self, mean, log_var):\n",
    "        std = torch.exp(0.5 * log_var)\n",
    "        eps  = torch.randn_like(std, requires_grad=False)\n",
    "\n",
    "        return mean + (std * eps)\n",
    "\n",
    "    def encode(self, x):\n",
    "        encoded = self.encoder(x)\n",
    "        mean = self.ln_mean(encoded)\n",
    "        log_var  = self.ln_var(encoded)\n",
    "        \n",
    "        return [mean, log_var]\n",
    "\n",
    "    def decode(self, embd):\n",
    "        return self.decoder(embd)"
   ]
  },
  {
   "cell_type": "code",
   "execution_count": 77,
   "metadata": {},
   "outputs": [],
   "source": [
    "model = Net(784, 20)\n",
    "solver = Solver(model, lr=0.001, batch_size=batch_size, criterion=nn.BCELoss)\n",
    "solver.set_data_loader(train_loader, 'train')\n",
    "solver.set_data_loader(val_loader, 'val')"
   ]
  },
  {
   "cell_type": "code",
   "execution_count": 82,
   "metadata": {},
   "outputs": [
    {
     "name": "stdout",
     "output_type": "stream",
     "text": [
      "epoch: 0 iter: 100 train_loss: 0.2710227566716917 val_loss: 0.2689049169421196\n",
      "epoch: 0 iter: 200 train_loss: 0.26974241068010374 val_loss: 0.2680836270252864\n",
      "epoch: 1 iter: 100 train_loss: 0.2685367990235042 val_loss: 0.2669840877254804\n",
      "epoch: 1 iter: 200 train_loss: 0.2678104729930382 val_loss: 0.2663783406217893\n"
     ]
    }
   ],
   "source": [
    "solver.train(train_loader, 2)"
   ]
  },
  {
   "cell_type": "code",
   "execution_count": 79,
   "metadata": {},
   "outputs": [
    {
     "data": {
      "text/plain": [
       "<matplotlib.image.AxesImage at 0x7e5068e1f2f0>"
      ]
     },
     "execution_count": 79,
     "metadata": {},
     "output_type": "execute_result"
    },
    {
     "data": {
      "image/png": "[encoded data removed]",
      "text/plain": [
       "<Figure size 640x480 with 1 Axes>"
      ]
     },
     "metadata": {},
     "output_type": "display_data"
    }
   ],
   "source": [
    "img = train_set[85][0]\n",
    "plt.imshow(img.reshape(28, 28))"
   ]
  },
  {
   "cell_type": "code",
   "execution_count": 84,
   "metadata": {},
   "outputs": [
    {
     "data": {
      "text/plain": [
       "<matplotlib.image.AxesImage at 0x7e4f89b9eea0>"
      ]
     },
     "execution_count": 84,
     "metadata": {},
     "output_type": "execute_result"
    },
    {
     "data": {
      "image/png": "[encoded data removed]",
      "text/plain": [
       "<Figure size 640x480 with 1 Axes>"
      ]
     },
     "metadata": {},
     "output_type": "display_data"
    }
   ],
   "source": [
    "img = img.to(device).reshape(1, 784)\n",
    "x, mean, log_var = model(img)\n",
    "plt.imshow(x.reshape(28, 28).cpu().detach().numpy())"
   ]
  },
  {
   "cell_type": "code",
   "execution_count": null,
   "metadata": {},
   "outputs": [],
   "source": []
  }
 ],
 "metadata": {
  "kernelspec": {
   "display_name": "Python 3",
   "language": "python",
   "name": "python3"
  },
  "language_info": {
   "codemirror_mode": {
    "name": "ipython",
    "version": 3
   },
   "file_extension": ".py",
   "mimetype": "text/x-python",
   "name": "python",
   "nbconvert_exporter": "python",
   "pygments_lexer": "ipython3",
   "version": "3.12.3"
  }
 },
 "nbformat": 4,
 "nbformat_minor": 2
}
